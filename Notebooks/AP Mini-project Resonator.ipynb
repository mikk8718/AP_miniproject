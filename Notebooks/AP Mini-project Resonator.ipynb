{
 "cells": [
  {
   "cell_type": "code",
   "execution_count": 2,
   "metadata": {},
   "outputs": [],
   "source": [
    "# %matplotlib inline\n",
    "import numpy as np\n",
    "import matplotlib.pyplot as plt\n",
    "import scipy.io.wavfile as wave\n",
    "import IPython.display as ipd"
   ]
  },
  {
   "cell_type": "code",
   "execution_count": 3,
   "metadata": {},
   "outputs": [],
   "source": [
    "def resonanceFreqResp(centerFreq, bandwidth, freqGrid):\n",
    "    nFreqs = np.size(freqGrid)\n",
    "    poleRadius = (2-bandwidth)/2\n",
    "    poleAngle = np.arccos(2*poleRadius*np.cos(centerFreq)/(1+poleRadius**2))\n",
    "    gain = (1-poleRadius**2)*np.sin(poleAngle)\n",
    "    iirCoefficients = np.array([2*poleRadius*np.cos(poleAngle), -poleRadius**2])\n",
    "    freqResp = gain/(1-2*poleRadius*np.cos(poleAngle)*np.exp(-1j*freqGrid)+poleRadius**2*np.exp(-1j*2*freqGrid))\n",
    "    return freqResp"
   ]
  },
  {
   "cell_type": "code",
   "execution_count": 7,
   "metadata": {},
   "outputs": [
    {
     "data": {
      "text/html": [
       "\n",
       "                <audio  controls=\"controls\" >\n",
       "                    <source src=\"data:audio/wav;base64,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\" type=\"audio/wav\" />\n",
       "                    Your browser does not support the audio element.\n",
       "                </audio>\n",
       "              "
      ],
      "text/plain": [
       "<IPython.lib.display.Audio object>"
      ]
     },
     "execution_count": 7,
     "metadata": {},
     "output_type": "execute_result"
    }
   ],
   "source": [
    "nFreqs = 1000\n",
    "samplingFreq = 1000\n",
    "digFreqGrid = 2*np.pi*np.arange(nFreqs)/nFreqs\n",
    "freqGrid = digFreqGrid*samplingFreq/(2*np.pi)\n",
    "centerFreq = 2*np.pi*100/samplingFreq\n",
    "bandwidth = 2*np.pi*50/samplingFreq\n",
    "freqResp = resonanceFreqResp(centerFreq, bandwidth, digFreqGrid)\n",
    "ampResp = np.abs(freqResp)\n",
    "phaseResp = np.angle(freqResp)\n",
    "\n",
    "ipd.Audio(resonanceFreqResp(centerFreq,bandwidth,freqGrid),rate=samplingFreq)"
   ]
  },
  {
   "cell_type": "code",
   "execution_count": null,
   "metadata": {},
   "outputs": [],
   "source": []
  }
 ],
 "metadata": {
  "kernelspec": {
   "display_name": "Python 3",
   "language": "python",
   "name": "python3"
  },
  "language_info": {
   "codemirror_mode": {
    "name": "ipython",
    "version": 3
   },
   "file_extension": ".py",
   "mimetype": "text/x-python",
   "name": "python",
   "nbconvert_exporter": "python",
   "pygments_lexer": "ipython3",
   "version": "3.7.3"
  }
 },
 "nbformat": 4,
 "nbformat_minor": 2
}
